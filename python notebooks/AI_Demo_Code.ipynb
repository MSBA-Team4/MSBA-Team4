{
  "nbformat": 4,
  "nbformat_minor": 0,
  "metadata": {
    "colab": {
      "provenance": []
    },
    "kernelspec": {
      "name": "python3",
      "display_name": "Python 3"
    },
    "language_info": {
      "name": "python"
    }
  },
  "cells": [
    {
      "cell_type": "code",
      "execution_count": 1,
      "metadata": {
        "colab": {
          "base_uri": "https://localhost:8080/"
        },
        "id": "PZYig5SJYPwD",
        "outputId": "57f642ab-419a-4bb8-ddb1-97cce0e139e8"
      },
      "outputs": [
        {
          "output_type": "stream",
          "name": "stdout",
          "text": [
            "Mounted at /content/drive\n"
          ]
        }
      ],
      "source": [
        "#mount the drive\n",
        "from google.colab import drive\n",
        "drive.mount('/content/drive')"
      ]
    },
    {
      "cell_type": "code",
      "source": [
        "#install tensorflow\n",
        "!pip install tensorflow tensorflow-recommenders\n",
        "\n",
        "#import necessary libraries\n",
        "import tensorflow as tf\n",
        "import tensorflow_recommenders as tfrs\n",
        "import pandas as pd"
      ],
      "metadata": {
        "colab": {
          "base_uri": "https://localhost:8080/"
        },
        "id": "LBsWfAKoYuYz",
        "outputId": "df9bf172-9705-4247-e102-176daab2980e"
      },
      "execution_count": 2,
      "outputs": [
        {
          "output_type": "stream",
          "name": "stdout",
          "text": [
            "Requirement already satisfied: tensorflow in /usr/local/lib/python3.11/dist-packages (2.18.0)\n",
            "Collecting tensorflow-recommenders\n",
            "  Downloading tensorflow_recommenders-0.7.3-py3-none-any.whl.metadata (4.6 kB)\n",
            "Requirement already satisfied: absl-py>=1.0.0 in /usr/local/lib/python3.11/dist-packages (from tensorflow) (1.4.0)\n",
            "Requirement already satisfied: astunparse>=1.6.0 in /usr/local/lib/python3.11/dist-packages (from tensorflow) (1.6.3)\n",
            "Requirement already satisfied: flatbuffers>=24.3.25 in /usr/local/lib/python3.11/dist-packages (from tensorflow) (25.2.10)\n",
            "Requirement already satisfied: gast!=0.5.0,!=0.5.1,!=0.5.2,>=0.2.1 in /usr/local/lib/python3.11/dist-packages (from tensorflow) (0.6.0)\n",
            "Requirement already satisfied: google-pasta>=0.1.1 in /usr/local/lib/python3.11/dist-packages (from tensorflow) (0.2.0)\n",
            "Requirement already satisfied: libclang>=13.0.0 in /usr/local/lib/python3.11/dist-packages (from tensorflow) (18.1.1)\n",
            "Requirement already satisfied: opt-einsum>=2.3.2 in /usr/local/lib/python3.11/dist-packages (from tensorflow) (3.4.0)\n",
            "Requirement already satisfied: packaging in /usr/local/lib/python3.11/dist-packages (from tensorflow) (24.2)\n",
            "Requirement already satisfied: protobuf!=4.21.0,!=4.21.1,!=4.21.2,!=4.21.3,!=4.21.4,!=4.21.5,<6.0.0dev,>=3.20.3 in /usr/local/lib/python3.11/dist-packages (from tensorflow) (5.29.4)\n",
            "Requirement already satisfied: requests<3,>=2.21.0 in /usr/local/lib/python3.11/dist-packages (from tensorflow) (2.32.3)\n",
            "Requirement already satisfied: setuptools in /usr/local/lib/python3.11/dist-packages (from tensorflow) (75.2.0)\n",
            "Requirement already satisfied: six>=1.12.0 in /usr/local/lib/python3.11/dist-packages (from tensorflow) (1.17.0)\n",
            "Requirement already satisfied: termcolor>=1.1.0 in /usr/local/lib/python3.11/dist-packages (from tensorflow) (3.0.1)\n",
            "Requirement already satisfied: typing-extensions>=3.6.6 in /usr/local/lib/python3.11/dist-packages (from tensorflow) (4.13.1)\n",
            "Requirement already satisfied: wrapt>=1.11.0 in /usr/local/lib/python3.11/dist-packages (from tensorflow) (1.17.2)\n",
            "Requirement already satisfied: grpcio<2.0,>=1.24.3 in /usr/local/lib/python3.11/dist-packages (from tensorflow) (1.71.0)\n",
            "Requirement already satisfied: tensorboard<2.19,>=2.18 in /usr/local/lib/python3.11/dist-packages (from tensorflow) (2.18.0)\n",
            "Requirement already satisfied: keras>=3.5.0 in /usr/local/lib/python3.11/dist-packages (from tensorflow) (3.8.0)\n",
            "Requirement already satisfied: numpy<2.1.0,>=1.26.0 in /usr/local/lib/python3.11/dist-packages (from tensorflow) (2.0.2)\n",
            "Requirement already satisfied: h5py>=3.11.0 in /usr/local/lib/python3.11/dist-packages (from tensorflow) (3.13.0)\n",
            "Requirement already satisfied: ml-dtypes<0.5.0,>=0.4.0 in /usr/local/lib/python3.11/dist-packages (from tensorflow) (0.4.1)\n",
            "Requirement already satisfied: tensorflow-io-gcs-filesystem>=0.23.1 in /usr/local/lib/python3.11/dist-packages (from tensorflow) (0.37.1)\n",
            "Requirement already satisfied: wheel<1.0,>=0.23.0 in /usr/local/lib/python3.11/dist-packages (from astunparse>=1.6.0->tensorflow) (0.45.1)\n",
            "Requirement already satisfied: rich in /usr/local/lib/python3.11/dist-packages (from keras>=3.5.0->tensorflow) (13.9.4)\n",
            "Requirement already satisfied: namex in /usr/local/lib/python3.11/dist-packages (from keras>=3.5.0->tensorflow) (0.0.8)\n",
            "Requirement already satisfied: optree in /usr/local/lib/python3.11/dist-packages (from keras>=3.5.0->tensorflow) (0.14.1)\n",
            "Requirement already satisfied: charset-normalizer<4,>=2 in /usr/local/lib/python3.11/dist-packages (from requests<3,>=2.21.0->tensorflow) (3.4.1)\n",
            "Requirement already satisfied: idna<4,>=2.5 in /usr/local/lib/python3.11/dist-packages (from requests<3,>=2.21.0->tensorflow) (3.10)\n",
            "Requirement already satisfied: urllib3<3,>=1.21.1 in /usr/local/lib/python3.11/dist-packages (from requests<3,>=2.21.0->tensorflow) (2.3.0)\n",
            "Requirement already satisfied: certifi>=2017.4.17 in /usr/local/lib/python3.11/dist-packages (from requests<3,>=2.21.0->tensorflow) (2025.1.31)\n",
            "Requirement already satisfied: markdown>=2.6.8 in /usr/local/lib/python3.11/dist-packages (from tensorboard<2.19,>=2.18->tensorflow) (3.7)\n",
            "Requirement already satisfied: tensorboard-data-server<0.8.0,>=0.7.0 in /usr/local/lib/python3.11/dist-packages (from tensorboard<2.19,>=2.18->tensorflow) (0.7.2)\n",
            "Requirement already satisfied: werkzeug>=1.0.1 in /usr/local/lib/python3.11/dist-packages (from tensorboard<2.19,>=2.18->tensorflow) (3.1.3)\n",
            "Requirement already satisfied: MarkupSafe>=2.1.1 in /usr/local/lib/python3.11/dist-packages (from werkzeug>=1.0.1->tensorboard<2.19,>=2.18->tensorflow) (3.0.2)\n",
            "Requirement already satisfied: markdown-it-py>=2.2.0 in /usr/local/lib/python3.11/dist-packages (from rich->keras>=3.5.0->tensorflow) (3.0.0)\n",
            "Requirement already satisfied: pygments<3.0.0,>=2.13.0 in /usr/local/lib/python3.11/dist-packages (from rich->keras>=3.5.0->tensorflow) (2.18.0)\n",
            "Requirement already satisfied: mdurl~=0.1 in /usr/local/lib/python3.11/dist-packages (from markdown-it-py>=2.2.0->rich->keras>=3.5.0->tensorflow) (0.1.2)\n",
            "Downloading tensorflow_recommenders-0.7.3-py3-none-any.whl (96 kB)\n",
            "\u001b[2K   \u001b[90m━━━━━━━━━━━━━━━━━━━━━━━━━━━━━━━━━━━━━━━━\u001b[0m \u001b[32m96.2/96.2 kB\u001b[0m \u001b[31m3.1 MB/s\u001b[0m eta \u001b[36m0:00:00\u001b[0m\n",
            "\u001b[?25hInstalling collected packages: tensorflow-recommenders\n",
            "Successfully installed tensorflow-recommenders-0.7.3\n"
          ]
        }
      ]
    },
    {
      "cell_type": "code",
      "source": [
        "# ✅ 1. Load the necessary datasets\n",
        "ratings = pd.read_csv(\"drive/MyDrive/MSBA AI Final Project/popular_ratings_dataset.csv\") #user rating data\n",
        "songs = pd.read_csv(\"drive/MyDrive/MSBA AI Final Project/popular_songs_dataset.csv\") #song data\n",
        "\n",
        "# ✅ 2. Create numeric ID mappings\n",
        "user_id_mapping = {id_: idx for idx, id_ in enumerate(ratings[\"user_id\"].unique(), start=1)}  # Start user ID mapping from 1\n",
        "song_id_mapping = {id_: idx for idx, id_ in enumerate(ratings[\"song_id\"].unique(), start=1)}  # Start song ID mapping from 1\n",
        "\n",
        "# ✅ 3. Apply mappings\n",
        "ratings[\"user_id_num\"] = ratings[\"user_id\"].map(user_id_mapping)  # Apply numeric user_id mapping to DataFrame\n",
        "ratings[\"song_id_num\"] = ratings[\"song_id\"].map(song_id_mapping)  # Apply numeric song_id mapping to DataFrame\n",
        "\n",
        "# ✅ 4. Convert to tf.data.Dataset with numeric IDs\n",
        "tf_ratings = tf.data.Dataset.from_tensor_slices({  # Create a TensorFlow dataset from the numeric user and song IDs\n",
        "    \"user_id\": ratings[\"user_id_num\"].values,      # Use the array of numeric user IDs\n",
        "    \"song_id\": ratings[\"song_id_num\"].values       # Use the array of numeric song IDs\n",
        "})\n",
        "\n",
        "# ✅ 5. Get unique numeric values\n",
        "unique_user_ids = ratings[\"user_id_num\"].unique()  # Get array of unique numeric user IDs\n",
        "unique_song_ids = ratings[\"song_id_num\"].unique()  # Get array of unique numeric song IDs\n",
        "\n",
        "# ✅ 6. Define the model\n",
        "class MusicRecommenderModel(tfrs.models.Model):  # Define a custom TFRS model for music recommendation\n",
        "    def __init__(self, num_users, num_songs):    # Constructor accepts total number of users and songs\n",
        "        super().__init__()                       # Call the base class constructor\n",
        "        embedding_dim = 32                       # Set the size of the embedding vectors\n",
        "\n",
        "        self.user_model = tf.keras.Sequential([   # Define the user embedding model\n",
        "            tf.keras.layers.Embedding(input_dim=num_users + 2, output_dim=embedding_dim)  # Embedding layer for users (+2 to account for 1-based indexing and edge cases)\n",
        "        ])\n",
        "\n",
        "        self.song_model = tf.keras.Sequential([   # Define the song embedding model\n",
        "            tf.keras.layers.Embedding(input_dim=num_songs + 2, output_dim=embedding_dim)  # Embedding layer for songs (+2 for same reason)\n",
        "        ])\n",
        "\n",
        "        self.task = tfrs.tasks.Retrieval()  # Define the retrieval task for training the model\n",
        "\n",
        "    def compute_loss(self, features, training=False):  # Compute loss using embeddings and retrieval task\n",
        "        user_embeddings = self.user_model(features[\"user_id\"])  # Get embedding vector for user\n",
        "        song_embeddings = self.song_model(features[\"song_id\"])  # Get embedding vector for song\n",
        "        return self.task(user_embeddings, song_embeddings)      # Return loss from TFRS retrieval task\n",
        "\n",
        "# ✅ 7. Shuffle, split, train\n",
        "tf_ratings = tf_ratings.shuffle(1000, seed=42, reshuffle_each_iteration=False)  # Shuffle the dataset with fixed seed\n",
        "train = tf_ratings.take(800)  # Take first 800 samples for training\n",
        "test = tf_ratings.skip(800)   # Use the remaining samples for testing\n",
        "\n",
        "model = MusicRecommenderModel(len(user_id_mapping), len(song_id_mapping))  # Instantiate model with number of users and songs\n",
        "model.compile(optimizer=tf.keras.optimizers.Adagrad(0.1))  # Compile with Adagrad optimizer\n",
        "model.fit(train.batch(100), epochs=3, verbose=0)  # Train the model on the training set in batches of 100 for 3 epochs\n",
        "\n",
        "# ✅ 8. Manual Top-K recommendation\n",
        "sample_user_id = ratings[\"user_id_num\"].iloc[20]  # Select a sample user's numeric ID from the dataset\n",
        "\n",
        "user_embedding = model.user_model(tf.constant([sample_user_id]))  # Get user embedding for the selected user\n",
        "all_song_embeddings = model.song_model(tf.constant(unique_song_ids))  # Get embeddings for all songs\n",
        "\n",
        "scores = tf.linalg.matmul(user_embedding, all_song_embeddings, transpose_b=True)  # Compute similarity scores between user and all songs\n",
        "\n",
        "top_k = tf.math.top_k(scores, k=5)  # Get indices of top 5 highest scoring songs\n",
        "recommended_indices = top_k.indices[0].numpy()  # Convert Tensor to NumPy array\n",
        "recommended_song_ids = [int(unique_song_ids[i]) for i in recommended_indices]  # Retrieve corresponding song IDs\n",
        "\n",
        "# ✅ 9. Convert numeric song IDs back to original labels\n",
        "reverse_song_map = {v: k for k, v in song_id_mapping.items()}  # Reverse mapping: numeric ID -> original song ID\n",
        "recommended_labels = [reverse_song_map[song_id] for song_id in recommended_song_ids]  # Map numeric IDs to original song IDs\n",
        "\n",
        "# ✅ 10. Display recommendations with metadata\n",
        "print(f\"\\n🎧 Top 5 recommendations for user {sample_user_id}:\")  # Print user ID\n",
        "for i, song_id in enumerate(recommended_labels):  # Loop through recommended songs\n",
        "    # Try to get metadata from user-specific interactions\n",
        "    song_row = ratings[(ratings[\"song_id\"] == song_id) & (ratings[\"user_id_num\"] == sample_user_id)]  # Match both song and user\n",
        "\n",
        "    if not song_row.empty:  # If metadata is available for this user-song pair\n",
        "        title = song_row[\"song_title\"].values[0]  # Get song title\n",
        "        genre = song_row[\"song_genres\"].values[0]  # Get song genre\n",
        "        in_library = \"Yes\" if song_row[\"in_library\"].values[0] else \"No\"  # Check if in library\n",
        "        is_favorited = \"Yes\" if song_row[\"is_favorited\"].values[0] else \"No\"  # Check if favorited\n",
        "    else:  # If no user-specific metadata, fall back to general song info\n",
        "        song_row = songs[songs[\"song_id\"] == song_id]  # Look up song in general song info DataFrame\n",
        "        title = song_row[\"song_title\"].values[0] if not song_row.empty else song_id  # Use song title or ID if missing\n",
        "        genre = song_row[\"song_genres\"].values[0] if not song_row.empty else \"Unknown\"  # Use genre or \"Unknown\"\n",
        "        in_library = \"Unknown\"  # Accounts for no info available\n",
        "        is_favorited = \"Unknown\"  # Accounts for no info available\n",
        "\n",
        "    # Print formatted song recommendation with metadata\n",
        "    print(f\"{i + 1}. {title} | Genre: {genre} | In Library: {in_library} | Favorited: {is_favorited}\")\n"
      ],
      "metadata": {
        "colab": {
          "base_uri": "https://localhost:8080/"
        },
        "id": "hFJmjFv8S8Z4",
        "outputId": "dc7df33b-fafe-470b-d90b-0cee84e81afc"
      },
      "execution_count": 3,
      "outputs": [
        {
          "output_type": "stream",
          "name": "stdout",
          "text": [
            "\n",
            "🎧 Top 5 recommendations for user 2:\n",
            "1. Good 4 U by Olivia Rodrigo | Genre: Pop Rock | In Library: Yes | Favorited: No\n",
            "2. Skate by Silk Sonic | Genre: R&B | In Library: Yes | Favorited: No\n",
            "3. Deja Vu by Olivia Rodrigo | Genre: Pop | In Library: Yes | Favorited: Yes\n",
            "4. You Right by Doja Cat & The Weeknd | Genre: R&B | In Library: No | Favorited: Yes\n",
            "5. Ghost by Justin Bieber | Genre: Pop | In Library: Yes | Favorited: No\n"
          ]
        }
      ]
    },
    {
      "cell_type": "code",
      "source": [],
      "metadata": {
        "id": "BYQc1huwUIWR"
      },
      "execution_count": null,
      "outputs": []
    }
  ]
}